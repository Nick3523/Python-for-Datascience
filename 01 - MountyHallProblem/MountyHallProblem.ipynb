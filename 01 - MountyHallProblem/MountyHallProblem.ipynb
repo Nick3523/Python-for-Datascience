{
 "cells": [
  {
   "cell_type": "markdown",
   "metadata": {},
   "source": [
    "# Mounty Hall Problem\n",
    "\n",
    "***Implémentation en Python et résolution du fameux jeux de Mounty Hall***"
   ]
  },
  {
   "cell_type": "markdown",
   "metadata": {},
   "source": [
    "## Enoncé : \n",
    "\n",
    "*Le jeu oppose un présentateur à un candidat (le joueur). Ce joueur est placé devant trois portes fermées. Derrière l'une d'elles se trouve une voiture et derrière chacune des deux autres se trouve une chèvre. Il doit tout d'abord désigner une porte. Puis le présentateur doit ouvrir une porte qui n'est ni celle choisie par le candidat, ni celle cachant la voiture (le présentateur sait quelle est la bonne porte dès le début). Le candidat a alors le droit d'ouvrir la porte qu'il a choisie initialement, ou d'ouvrir la troisième porte.*\n",
    "\n",
    "*Les questions qui se posent au candidat sont :*\n",
    "\n",
    "***Que doit-il faire ?***\n",
    "\n",
    "***Quelles sont ses chances de gagner la voiture en agissant au mieux ?***"
   ]
  },
  {
   "cell_type": "markdown",
   "metadata": {},
   "source": [
    "### Les stratégies : \n",
    "\n",
    "***Initialement, le joueur peut choisir entre deux stratégies :***\n",
    "\n",
    "* Changer de porte\n",
    "* Ne pas changer de porte\n",
    "\n",
    "Une stratégie ***alternative*** a été ajoutée et testée :\n",
    "\n",
    "* Le programme choisi aléatoirement entre changer de porte, et ne pas changer.\n"
   ]
  },
  {
   "cell_type": "code",
   "execution_count": 13,
   "metadata": {},
   "outputs": [],
   "source": [
    "# Pour afficher les graphiques dans la continuité du code, \n",
    "# et non pas dans une fenêtre à part:\n",
    "%matplotlib inline\n",
    "\n",
    "# Pour utiliser la fonction randint, qui génère des nombres\n",
    "# entiers de façon aléatoire:\n",
    "from random import randint, seed\n",
    "\n",
    "# Un Enum est une structure de données qui consiste en un \n",
    "# ensemble d'éléments nommés. Une variable de ce type peut\n",
    "# avoir comme valeur un de ces éléments.\n",
    "from enum import Enum\n",
    "\n",
    "# Pour pouvoir afficher des graphiques:\n",
    "import matplotlib.pyplot as plt"
   ]
  },
  {
   "cell_type": "code",
   "execution_count": 2,
   "metadata": {},
   "outputs": [],
   "source": [
    "# Ici nous définissons une sous-classe de Enum, qui contiendra \n",
    "# les stratégies possibles.\n",
    "class Strategie(Enum):\n",
    "    CHANGER = 1\n",
    "    GARDER = 2\n",
    "    ALTERNATIF = 3"
   ]
  },
  {
   "cell_type": "code",
   "execution_count": 3,
   "metadata": {},
   "outputs": [],
   "source": [
    "# Utilise l'horloge système pour initialiser le générateur de \n",
    "# nombres pseudo-aléatoires.\n",
    "seed()\n",
    "\n",
    "def play_game(strategie):\n",
    "    '''Simule une partie du jeu Monty Hall.\n",
    "    \n",
    "    Cette fonction simule le choix de la porte par le participant, \n",
    "    l'élimination d'une mauvaise porte par le présentateur, et le \n",
    "    choix final. Elle ne retourne que le résultat de la partie, parce \n",
    "    que nous n'aurons besoin que du résultat pour effectuer nos calculs.\n",
    "    \n",
    "    Args:\n",
    "        strategie (Strategie): La stratégie du joueur\n",
    "        \n",
    "    Returns:\n",
    "        bool: Le joueur a-t-il gagné?\n",
    "    '''\n",
    "\n",
    "    portes = [0, 1, 2]\n",
    "    \n",
    "    bonne_porte = randint(0,2)\n",
    "    \n",
    "    # Choix du joueur\n",
    "    premier_choix = randint(0,2)\n",
    "    \n",
    "    # Il nous reste deux portes\n",
    "    portes.remove(premier_choix)\n",
    "    \n",
    "    # Le présentateur élimine une porte\n",
    "    if premier_choix == bonne_porte:\n",
    "        portes.remove(portes[randint(0,1)])\n",
    "    else:\n",
    "        portes = [bonne_porte] #J'enleve la mauvaise, donc il ne reste que la bonne porte\n",
    "    \n",
    "    deuxieme_choix = 0\n",
    "    # Le deuxieme choix depend de la strategie\n",
    "    if strategie == Strategie.CHANGER:\n",
    "        deuxieme_choix = portes[0]\n",
    "    elif strategie == Strategie.GARDER:\n",
    "        deuxieme_choix = premier_choix\n",
    "    elif strategie == Strategie.ALTERNATIF:\n",
    "        if (premier_choix <= portes[0]) : #Pour éviter l'exception de randint\n",
    "            deuxieme_choix = randint(premier_choix, portes[0])\n",
    "        else :\n",
    "            deuxieme_choix = randint(portes[0], premier_choix)\n",
    "    else:\n",
    "        raise ValueError(\"Stratégie non reconnue!\")\n",
    "    \n",
    "    return deuxieme_choix == bonne_porte"
   ]
  },
  {
   "cell_type": "code",
   "execution_count": 18,
   "metadata": {},
   "outputs": [
    {
     "data": {
      "text/plain": [
       "True"
      ]
     },
     "execution_count": 18,
     "metadata": {},
     "output_type": "execute_result"
    }
   ],
   "source": [
    "play_game(Strategie.ALTERNATIF) #Ligne de test"
   ]
  },
  {
   "cell_type": "code",
   "execution_count": 5,
   "metadata": {},
   "outputs": [],
   "source": [
    "def play(strategie, nb_tours):\n",
    "    '''Simule une suite de tours du jeu.\n",
    "    \n",
    "    Cette fonction renvoie les résultats de plusieurs parties\n",
    "    du jeu Monty Hall sous forme d'une liste de gains par le \n",
    "    joueur.\n",
    "    \n",
    "    Args:\n",
    "        strategie (Strategie): La strategie du joueur\n",
    "        nb_tours (int): Nombre de tours\n",
    "        \n",
    "    Returns:\n",
    "        list: Liste des gains du joueurs à chaque partie\n",
    "    '''\n",
    "    \n",
    "    # Ceci est une liste en compréhension. Pour en savoir plus, consulter \n",
    "    # le cours \"Apprenez à programmer en Python\" sur OpenClassrooms\n",
    "    return [1 if play_game(strategie) else 0 for i in range(nb_tours)]"
   ]
  },
  {
   "cell_type": "markdown",
   "metadata": {},
   "source": [
    "## Gain des joueurs, en fonction du nombre de parties jouées :\n",
    "\n",
    "\n"
   ]
  },
  {
   "cell_type": "code",
   "execution_count": 6,
   "metadata": {},
   "outputs": [
    {
     "name": "stdout",
     "output_type": "stream",
     "text": [
      "En changeant de porte, le joueur a gagné 6640 sur 10000 parties.\n",
      "En gardant son choix initial, le joueur a gagné 3335 sur 10000 parties.\n",
      "Avec la stratégie alternative, le joueur a gagné 4452 sur 10000 parties.\n"
     ]
    }
   ],
   "source": [
    "print(\"En changeant de porte, le joueur a gagné {} sur 10000 parties.\"\n",
    "      .format(sum(play(Strategie.CHANGER, 10000))))\n",
    "      \n",
    "print(\"En gardant son choix initial, le joueur a gagné {} sur 10000 parties.\"\n",
    "      .format(sum(play(Strategie.GARDER, 10000))))\n",
    "\n",
    "print(\"Avec la stratégie alternative, le joueur a gagné {} sur 10000 parties.\"\n",
    "      .format(sum(play(Strategie.ALTERNATIF, 10000))))"
   ]
  },
  {
   "cell_type": "code",
   "execution_count": 7,
   "metadata": {},
   "outputs": [
    {
     "data": {
      "image/png": "[encoded data removed]",
      "text/plain": [
       "<Figure size 432x288 with 1 Axes>"
      ]
     },
     "metadata": {
      "needs_background": "light"
     },
     "output_type": "display_data"
    }
   ],
   "source": [
    "plot = plt.bar([1,2,3],[sum(play(Strategie.CHANGER, 10000)), \n",
    "               sum(play(Strategie.ALTERNATIF, 10000)), sum(play(Strategie.GARDER, 10000))], \n",
    "        tick_label=[\"Changer\",\"Alternatif\",\"Garder\"])"
   ]
  },
  {
   "cell_type": "markdown",
   "metadata": {},
   "source": [
    "## Suivie de l'évolution du gain des joueurs, en fonction du nombre de parties jouées :"
   ]
  },
  {
   "cell_type": "code",
   "execution_count": 9,
   "metadata": {},
   "outputs": [],
   "source": [
    "gains_changer = []\n",
    "gains_garder = []\n",
    "gains_alternatif = []\n",
    "samples =  [1000, 10000, 20000, 50000, 80000, 100000]\n",
    "for tours in samples:\n",
    "    gains_changer.append(play(Strategie.CHANGER, tours))\n",
    "    gains_garder.append(play(Strategie.GARDER, tours))\n",
    "    gains_alternatif.append(play(Strategie.ALTERNATIF, tours))"
   ]
  },
  {
   "cell_type": "code",
   "execution_count": 10,
   "metadata": {},
   "outputs": [
    {
     "data": {
      "image/png": "[encoded data removed]",
      "text/plain": [
       "<Figure size 432x288 with 1 Axes>"
      ]
     },
     "metadata": {
      "needs_background": "light"
     },
     "output_type": "display_data"
    }
   ],
   "source": [
    "figure = plt.figure()\n",
    "plot = plt.scatter(samples, [sum(x) for x in gains_changer])\n",
    "plot = plt.scatter(samples, [sum(x) for x in gains_garder])\n",
    "plot = plt.scatter(samples, [sum(x) for x in gains_alternatif])"
   ]
  },
  {
   "cell_type": "markdown",
   "metadata": {},
   "source": [
    "## Probabilité de gain en moyenne, pour chaque stratégie et par nombre de partie jouées :"
   ]
  },
  {
   "cell_type": "code",
   "execution_count": 12,
   "metadata": {},
   "outputs": [
    {
     "data": {
      "image/png": "[encoded data removed]",
      "text/plain": [
       "<Figure size 432x288 with 1 Axes>"
      ]
     },
     "metadata": {
      "needs_background": "light"
     },
     "output_type": "display_data"
    }
   ],
   "source": [
    "figure = plt.figure()\n",
    "plot = plt.scatter(samples, [sum(x)/y for x,y in zip(gains_changer, samples)])\n",
    "plot = plt.scatter(samples, [sum(x)/y for x,y in zip(gains_garder, samples)])\n",
    "plot = plt.scatter(samples, [sum(x)/y for x,y in zip(gains_alternatif, samples)])"
   ]
  },
  {
   "cell_type": "markdown",
   "metadata": {},
   "source": [
    "# Conclusion \n",
    "\n",
    "En dépit de son sens contre intuitif, le joueur a toujours interet à changer de porte lorsque le présentateur le lui demande, en effet en changeant de porte, il passe d'une probabilité de 1/3 à une probabilité de 2/3 de trouver la bonne porte.\n",
    "\n",
    "La démonstration complète se fait par dénombrement, et est consultable sur Wikipédia :\n",
    "\n",
    "https://www.wikiwand.com/fr/Problème_de_Monty_Hall"
   ]
  },
  {
   "cell_type": "code",
   "execution_count": null,
   "metadata": {},
   "outputs": [],
   "source": []
  }
 ],
 "metadata": {
  "kernelspec": {
   "display_name": "Python 3",
   "language": "python",
   "name": "python3"
  },
  "language_info": {
   "codemirror_mode": {
    "name": "ipython",
    "version": 3
   },
   "file_extension": ".py",
   "mimetype": "text/x-python",
   "name": "python",
   "nbconvert_exporter": "python",
   "pygments_lexer": "ipython3",
   "version": "3.6.8"
  }
 },
 "nbformat": 4,
 "nbformat_minor": 2
}
